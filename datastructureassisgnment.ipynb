{
 "cells": [
  {
   "cell_type": "code",
   "execution_count": 1,
   "id": "302a9d52-c20c-4cfd-a5d2-d5d740801aac",
   "metadata": {},
   "outputs": [
    {
     "name": "stdout",
     "output_type": "stream",
     "text": [
      "Hello, World!\n"
     ]
    }
   ],
   "source": [
    "#datastructureassignment\n",
    "# question1\n",
    "# This is a single-line comment\n",
    "print(\"Hello, World!\")  # This is another single-line comment\n"
   ]
  },
  {
   "cell_type": "code",
   "execution_count": 2,
   "id": "f2ff53cd-a63b-4c1e-abbf-2e9e55657e0e",
   "metadata": {},
   "outputs": [
    {
     "name": "stdout",
     "output_type": "stream",
     "text": [
      "Hello, World!\n"
     ]
    }
   ],
   "source": [
    "'''\n",
    "This is another multi-line comment.\n",
    "It can also span across multiple lines.\n",
    "'''\n",
    "print(\"Hello, World!\")\n"
   ]
  },
  {
   "cell_type": "code",
   "execution_count": 6,
   "id": "e7aab988-ccce-4c82-87a7-7c8d5f55be55",
   "metadata": {},
   "outputs": [
    {
     "ename": "NameError",
     "evalue": "name 'value' is not defined",
     "output_type": "error",
     "traceback": [
      "\u001b[0;31m---------------------------------------------------------------------------\u001b[0m",
      "\u001b[0;31mNameError\u001b[0m                                 Traceback (most recent call last)",
      "Cell \u001b[0;32mIn [6], line 2\u001b[0m\n\u001b[1;32m      1\u001b[0m \u001b[38;5;66;03m# question2\u001b[39;00m\n\u001b[0;32m----> 2\u001b[0m variable_name \u001b[38;5;241m=\u001b[39m \u001b[43mvalue\u001b[49m\n",
      "\u001b[0;31mNameError\u001b[0m: name 'value' is not defined"
     ]
    }
   ],
   "source": [
    "# question2\n",
    "variable_name = value\n",
    "\n",
    "\n",
    "\n"
   ]
  },
  {
   "cell_type": "code",
   "execution_count": 8,
   "id": "7b8792df-98b0-444a-a8ed-10f715b51a4d",
   "metadata": {},
   "outputs": [],
   "source": [
    "# Integer variable\n",
    "age = 25\n",
    "\n",
    "# String variable\n",
    "name = \"John Doe\"\n",
    "\n",
    "# Floating-point variable\n",
    "salary = 2500.50\n",
    "\n",
    "# Boolean variable\n",
    "is_student = True\n",
    "\n",
    "# List variable\n",
    "fruits = [\"apple\", \"banana\", \"orange\"]\n",
    "\n",
    "# Tuple variable\n",
    "point = (10, 20)\n",
    "\n",
    "# Dictionary variable\n",
    "person = {\"name\": \"Jane\", \"age\": 30}\n",
    "\n",
    "# None variable\n",
    "data = None\n"
   ]
  },
  {
   "cell_type": "code",
   "execution_count": 10,
   "id": "8ce25ed5-1957-4061-9521-e28500ab1953",
   "metadata": {},
   "outputs": [
    {
     "name": "stdout",
     "output_type": "stream",
     "text": [
      "10.0\n",
      "3\n",
      "42\n",
      "123\n",
      "(1, 2, 3)\n",
      "[4, 5, 6]\n",
      "1\n",
      "False\n"
     ]
    }
   ],
   "source": [
    "# question3\n",
    "# Convert int to float\n",
    "x = 10\n",
    "y = float(x)\n",
    "print(y)  \n",
    "\n",
    "# Convert float to int\n",
    "a = 3.14\n",
    "b = int(a)\n",
    "print(b)  \n",
    "\n",
    "# Convert int to string\n",
    "num = 42\n",
    "text = str(num)\n",
    "print(text) \n",
    "# Convert string to int\n",
    "num_str = \"123\"\n",
    "num_int = int(num_str)\n",
    "print(num_int)  \n",
    "\n",
    "# Convert list to tuple\n",
    "my_list = [1, 2, 3]\n",
    "my_tuple = tuple(my_list)\n",
    "print(my_tuple)  \n",
    "# Convert tuple to list\n",
    "my_tuple = (4, 5, 6)\n",
    "my_list = list(my_tuple)\n",
    "print(my_list) \n",
    "\n",
    "# Convert boolean to int\n",
    "is_true = True\n",
    "num = int(is_true)\n",
    "print(num)  \n",
    "\n",
    "# Convert int to boolean\n",
    "num = 0\n",
    "is_true = bool(num)\n",
    "print(is_true) "
   ]
  },
  {
   "cell_type": "code",
   "execution_count": 11,
   "id": "e6166cc7-4409-4983-8efc-6068dfda2629",
   "metadata": {},
   "outputs": [
    {
     "name": "stdout",
     "output_type": "stream",
     "text": [
      "Hello, World!\n"
     ]
    }
   ],
   "source": [
    "# question4\n",
    "# my_script.py\n",
    "print(\"Hello, World!\")\n"
   ]
  },
  {
   "cell_type": "code",
   "execution_count": 12,
   "id": "8eca1ab6-5856-4a76-93c1-a5a0f7842f09",
   "metadata": {},
   "outputs": [
    {
     "name": "stdout",
     "output_type": "stream",
     "text": [
      "[2, 3]\n"
     ]
    }
   ],
   "source": [
    "# question5\n",
    "my_list = [1, 2, 3, 4, 5]\n",
    "sub_list = my_list[1:3]\n",
    "print(sub_list)\n"
   ]
  },
  {
   "cell_type": "code",
   "execution_count": 14,
   "id": "2a8c88fd-c9cf-438e-a488-0b537ff6764d",
   "metadata": {},
   "outputs": [
    {
     "name": "stdout",
     "output_type": "stream",
     "text": [
      "(3+4j)\n",
      "1j\n",
      "(2+3j)\n",
      "(1-2j)\n",
      "(5-2j)\n"
     ]
    }
   ],
   "source": [
    "# question6\n",
    "# a complex number is a number that can be expressed in the form a + bi, where a and b are real numbers, and i is the imaginary unit.\n",
    "# Using the complex() constructor\n",
    "z1 = complex(3, 4) \n",
    "z2 = complex(0, 1)  \n",
    "\n",
    "# Using the syntax a + bj\n",
    "z3 = 2 + 3j\n",
    "z4 = 1 - 2j\n",
    "\n",
    "# Using variables\n",
    "a = 5\n",
    "b = -2\n",
    "z5 = a + b * 1j\n",
    "\n",
    "print(z1)  \n",
    "print(z2)  \n",
    "print(z3)  \n",
    "print(z4)  \n",
    "print(z5)  \n"
   ]
  },
  {
   "cell_type": "code",
   "execution_count": 16,
   "id": "4a47428c-fc80-490f-83b7-6e8923804eab",
   "metadata": {},
   "outputs": [],
   "source": [
    "# question7\n",
    "age = 25\n"
   ]
  },
  {
   "cell_type": "code",
   "execution_count": 18,
   "id": "62ec6522-22a6-4773-8360-81d6a7772360",
   "metadata": {},
   "outputs": [
    {
     "data": {
      "text/plain": [
       "float"
      ]
     },
     "execution_count": 18,
     "metadata": {},
     "output_type": "execute_result"
    }
   ],
   "source": [
    "# question8\n",
    "price = 9.99\n",
    "type(price)"
   ]
  },
  {
   "cell_type": "code",
   "execution_count": 19,
   "id": "30129ed5-7cd7-4de9-8a3b-139a4bde722c",
   "metadata": {},
   "outputs": [
    {
     "data": {
      "text/plain": [
       "str"
      ]
     },
     "execution_count": 19,
     "metadata": {},
     "output_type": "execute_result"
    }
   ],
   "source": [
    "# question9\n",
    "name = \"John Doe\"\n",
    "type(name)"
   ]
  },
  {
   "cell_type": "code",
   "execution_count": 21,
   "id": "6f293848-3343-4532-bf42-c9eec00ae6c6",
   "metadata": {},
   "outputs": [
    {
     "name": "stdout",
     "output_type": "stream",
     "text": [
      "World\n"
     ]
    }
   ],
   "source": [
    "# question10\n",
    "string = \"Hello, World!\"\n",
    "substring = string[7:12]\n",
    "print(substring)\n"
   ]
  },
  {
   "cell_type": "code",
   "execution_count": 22,
   "id": "29e56bfb-4f59-4127-b39b-9c6c0ea4042f",
   "metadata": {},
   "outputs": [
    {
     "data": {
      "text/plain": [
       "bool"
      ]
     },
     "execution_count": 22,
     "metadata": {},
     "output_type": "execute_result"
    }
   ],
   "source": [
    "# question11\n",
    "is_student = True\n",
    "type(is_student)"
   ]
  },
  {
   "cell_type": "code",
   "execution_count": null,
   "id": "70d9d5a8-64fc-4966-b7c6-3730d0abd39d",
   "metadata": {},
   "outputs": [],
   "source": []
  }
 ],
 "metadata": {
  "kernelspec": {
   "display_name": "Python 3 (ipykernel)",
   "language": "python",
   "name": "python3"
  },
  "language_info": {
   "codemirror_mode": {
    "name": "ipython",
    "version": 3
   },
   "file_extension": ".py",
   "mimetype": "text/x-python",
   "name": "python",
   "nbconvert_exporter": "python",
   "pygments_lexer": "ipython3",
   "version": "3.10.6"
  }
 },
 "nbformat": 4,
 "nbformat_minor": 5
}
